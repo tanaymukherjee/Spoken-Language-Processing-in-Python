{
  "nbformat": 4,
  "nbformat_minor": 0,
  "metadata": {
    "colab": {
      "name": "01. Spoken Language Processing.ipynb",
      "provenance": [],
      "collapsed_sections": [],
      "authorship_tag": "ABX9TyOnOahGvsvbKGwZqvncQEUo",
      "include_colab_link": true
    },
    "kernelspec": {
      "name": "python3",
      "display_name": "Python 3"
    }
  },
  "cells": [
    {
      "cell_type": "markdown",
      "metadata": {
        "id": "view-in-github",
        "colab_type": "text"
      },
      "source": [
        "<a href=\"https://colab.research.google.com/github/tanaymukherjee/Spoken-Language-Processing-in-Python/blob/master/01_Spoken_Language_Processing.ipynb\" target=\"_parent\"><img src=\"https://colab.research.google.com/assets/colab-badge.svg\" alt=\"Open In Colab\"/></a>"
      ]
    },
    {
      "cell_type": "markdown",
      "metadata": {
        "id": "XOwervMpP3I7",
        "colab_type": "text"
      },
      "source": [
        "# Spoken Language Processing"
      ]
    },
    {
      "cell_type": "markdown",
      "metadata": {
        "id": "-qlEP8UsMN9y",
        "colab_type": "text"
      },
      "source": [
        "## Import necessary libraries and packeges"
      ]
    },
    {
      "cell_type": "code",
      "metadata": {
        "id": "hABCDnPEGFj0",
        "colab_type": "code",
        "colab": {}
      },
      "source": [
        "# Import necessary libraries and packages\n",
        "\n",
        "import pandas as pd\n",
        "import numpy as np\n",
        "import matplotlib.pyplot as plt\n",
        "\n",
        "# set the plots to display in the Jupyter notebook\n",
        "% matplotlib inline\n",
        "\n",
        "# Needed imports for audio files\n",
        "from IPython.display import Audio\n",
        "from scipy.io import wavfile"
      ],
      "execution_count": 12,
      "outputs": []
    },
    {
      "cell_type": "markdown",
      "metadata": {
        "id": "Zzc5CNREMKiZ",
        "colab_type": "text"
      },
      "source": [
        "## Reading data from Google drive"
      ]
    },
    {
      "cell_type": "code",
      "metadata": {
        "id": "ERWkCsAJE8ZP",
        "colab_type": "code",
        "colab": {
          "base_uri": "https://localhost:8080/",
          "height": 125
        },
        "outputId": "04c47f45-66e3-4480-9d41-8ffb06a69398"
      },
      "source": [
        "# Mounting google colab with personal GDrive\n",
        "\n",
        "from google.colab import drive\n",
        "drive.mount('/content/gdrive')"
      ],
      "execution_count": 1,
      "outputs": [
        {
          "output_type": "stream",
          "text": [
            "Go to this URL in a browser: https://accounts.google.com/o/oauth2/auth?client_id=947318989803-6bn6qk8qdgf4n4g3pfee6491hc0brc4i.apps.googleusercontent.com&redirect_uri=urn%3aietf%3awg%3aoauth%3a2.0%3aoob&response_type=code&scope=email%20https%3a%2f%2fwww.googleapis.com%2fauth%2fdocs.test%20https%3a%2f%2fwww.googleapis.com%2fauth%2fdrive%20https%3a%2f%2fwww.googleapis.com%2fauth%2fdrive.photos.readonly%20https%3a%2f%2fwww.googleapis.com%2fauth%2fpeopleapi.readonly\n",
            "\n",
            "Enter your authorization code:\n",
            "··········\n",
            "Mounted at /content/gdrive\n"
          ],
          "name": "stdout"
        }
      ]
    },
    {
      "cell_type": "code",
      "metadata": {
        "id": "PRiYwgz8Fco2",
        "colab_type": "code",
        "colab": {
          "base_uri": "https://localhost:8080/",
          "height": 158
        },
        "outputId": "216d0d29-9b66-4c67-d10d-72a4b204ec0c"
      },
      "source": [
        "# Checking the content in my GDrive witihin the working directory\n",
        "\n",
        "!ls -ahl \"/content/gdrive/My Drive/Colab Notebooks/Data\""
      ],
      "execution_count": 28,
      "outputs": [
        {
          "output_type": "stream",
          "text": [
            "total 33M\n",
            "-rw------- 1 root root  30M Jul 18 04:35 fake_or_real_news.csv\n",
            "-rw------- 1 root root 653K Jul 21 07:28 good-afternoon.wav\n",
            "-rw------- 1 root root 489K Jul 21 06:33 good-morning.wav\n",
            "-rw------- 1 root root 291K May 31 02:02 Index2018.csv\n",
            "-rw------- 1 root root 164K May 31 02:02 RandWalk.csv\n",
            "-rw------- 1 root root 492K Jun 16 22:51 spam.csv\n",
            "-rw------- 1 root root 1.1M Jun 16 03:45 tweets.csv\n"
          ],
          "name": "stdout"
        }
      ]
    },
    {
      "cell_type": "markdown",
      "metadata": {
        "id": "NjLow-nJMISo",
        "colab_type": "text"
      },
      "source": [
        "## Importing an audio file with Python"
      ]
    },
    {
      "cell_type": "code",
      "metadata": {
        "id": "jM8RfmUrFhpe",
        "colab_type": "code",
        "colab": {
          "base_uri": "https://localhost:8080/",
          "height": 35
        },
        "outputId": "b7125bab-e2b6-47c5-fb1e-e3456982f7cf"
      },
      "source": [
        "import wave\n",
        "\n",
        "# Create audio file wave object\n",
        "good_morning = wave.open(\"/content/gdrive/My Drive/Colab Notebooks/Data/good-morning.wav\", 'r')\n",
        "\n",
        "# Read all frames from wave object \n",
        "signal_gm = good_morning.readframes(-1)\n",
        "\n",
        "# View first 10\n",
        "print(signal_gm[:10])"
      ],
      "execution_count": 23,
      "outputs": [
        {
          "output_type": "stream",
          "text": [
            "b'\\xfd\\xff\\xfb\\xff\\xf8\\xff\\xf8\\xff\\xf7\\xff'\n"
          ],
          "name": "stdout"
        }
      ]
    },
    {
      "cell_type": "markdown",
      "metadata": {
        "id": "bPwFu-bbMES4",
        "colab_type": "text"
      },
      "source": [
        "## Bytes to integers"
      ]
    },
    {
      "cell_type": "code",
      "metadata": {
        "id": "qfV0ck2tQ0HA",
        "colab_type": "code",
        "colab": {
          "base_uri": "https://localhost:8080/",
          "height": 35
        },
        "outputId": "3b539a07-1e94-40f4-a02f-efb414f4ee09"
      },
      "source": [
        "import numpy as np\n",
        "\n",
        "# Create audio file wave object\n",
        "good_morning = wave.open(\"/content/gdrive/My Drive/Colab Notebooks/Data/good-morning.wav\", 'r')\n",
        "\n",
        "signal_gm = good_morning.readframes(-1)\n",
        "\n",
        "# Convert good morning audio bytes to integers\n",
        "soundwave_gm = np.frombuffer(signal_gm, dtype='int16')\n",
        "\n",
        "# View the first 10 sound wave values\n",
        "print(soundwave_gm[:10])"
      ],
      "execution_count": 25,
      "outputs": [
        {
          "output_type": "stream",
          "text": [
            "[ -3  -5  -8  -8  -9 -13  -8 -10  -9 -11]\n"
          ],
          "name": "stdout"
        }
      ]
    },
    {
      "cell_type": "markdown",
      "metadata": {
        "id": "SRNJV118RG-E",
        "colab_type": "text"
      },
      "source": [
        "## Finding the time stamps"
      ]
    },
    {
      "cell_type": "code",
      "metadata": {
        "id": "v0ECMPMgRKCv",
        "colab_type": "code",
        "colab": {
          "base_uri": "https://localhost:8080/",
          "height": 70
        },
        "outputId": "7e68a255-1e22-4fab-acb3-03c5de78c748"
      },
      "source": [
        "# Read in sound wave and convert from bytes to integers\n",
        "good_morning = wave.open(\"/content/gdrive/My Drive/Colab Notebooks/Data/good-morning.wav\", 'r')\n",
        "signal_gm = good_morning.readframes(-1)\n",
        "soundwave_gm = np.frombuffer(signal_gm, dtype='int16')\n",
        "\n",
        "# Get the sound wave frame rate\n",
        "framerate_gm = good_morning.getframerate()\n",
        "\n",
        "# Find the sound wave timestamps\n",
        "time_gm = np.linspace(start=0,\n",
        "                      stop=len(soundwave_gm)/framerate_gm,\n",
        "                      num=len(soundwave_gm))\n",
        "\n",
        "# Print the first 10 timestamps\n",
        "print(time_gm[:10])"
      ],
      "execution_count": 26,
      "outputs": [
        {
          "output_type": "stream",
          "text": [
            "[0.00000000e+00 2.08334167e-05 4.16668333e-05 6.25002500e-05\n",
            " 8.33336667e-05 1.04167083e-04 1.25000500e-04 1.45833917e-04\n",
            " 1.66667333e-04 1.87500750e-04]\n"
          ],
          "name": "stdout"
        }
      ]
    },
    {
      "cell_type": "code",
      "metadata": {
        "id": "Sc8NNwEBR9UW",
        "colab_type": "code",
        "colab": {
          "base_uri": "https://localhost:8080/",
          "height": 70
        },
        "outputId": "3d6181ac-6088-45c1-cf6d-9cdcdb9f6563"
      },
      "source": [
        "# Read in sound wave and convert from bytes to integers\n",
        "good_afternoon = wave.open(\"/content/gdrive/My Drive/Colab Notebooks/Data/good-afternoon.wav\", 'r')\n",
        "signal_ga = good_afternoon.readframes(-1)\n",
        "soundwave_ga = np.frombuffer(signal_ga, dtype='int16')\n",
        "\n",
        "# Get the sound wave frame rate\n",
        "framerate_ga = good_afternoon.getframerate()\n",
        "\n",
        "# Find the sound wave timestamps\n",
        "time_ga = np.linspace(start=0,\n",
        "                      stop=len(soundwave_ga)/framerate_ga,\n",
        "                      num=len(soundwave_ga))\n",
        "\n",
        "# Print the first 10 timestamps\n",
        "print(time_gm[:10])"
      ],
      "execution_count": 29,
      "outputs": [
        {
          "output_type": "stream",
          "text": [
            "[0.00000000e+00 2.08334167e-05 4.16668333e-05 6.25002500e-05\n",
            " 8.33336667e-05 1.04167083e-04 1.25000500e-04 1.45833917e-04\n",
            " 1.66667333e-04 1.87500750e-04]\n"
          ],
          "name": "stdout"
        }
      ]
    },
    {
      "cell_type": "markdown",
      "metadata": {
        "id": "kp-7zgf2RQ9p",
        "colab_type": "text"
      },
      "source": [
        "## Processing audio data with Python"
      ]
    },
    {
      "cell_type": "markdown",
      "metadata": {
        "id": "WKX79-4hR5HC",
        "colab_type": "text"
      },
      "source": [
        "You've seen how a sound waves can be turned into numbers but what does all that conversion look like?\n",
        "\n",
        "And how about another similar sound wave? One slightly different?\n",
        "\n",
        "In this exercise, we're going to use MatPlotLib to plot the sound wave of good_morning against good_afternoon.\n",
        "\n",
        "To have the good_morning and good_afternoon sound waves on the same plot and distinguishable from each other, we'll use MatPlotLib's alpha parameter."
      ]
    },
    {
      "cell_type": "code",
      "metadata": {
        "id": "jm8ji7jNRR0I",
        "colab_type": "code",
        "colab": {
          "base_uri": "https://localhost:8080/",
          "height": 295
        },
        "outputId": "ee9d6e61-361b-4a52-f714-4d61f4390015"
      },
      "source": [
        "# Setup the title and axis titles\n",
        "plt.title('Good Afternoon vs. Good Morning')\n",
        "plt.ylabel('Amplitude')\n",
        "plt.xlabel('Time (seconds)')\n",
        "\n",
        "# Add the Good Afternoon data to the plot\n",
        "plt.plot(time_ga, soundwave_ga, label='Good Afternoon')\n",
        "\n",
        "# Add the Good Morning data to the plot\n",
        "plt.plot(time_gm, soundwave_gm, label='Good Morning',\n",
        "   # Set the alpha variable to 0.5\n",
        "   alpha=0.5)\n",
        "\n",
        "plt.legend()\n",
        "plt.show()"
      ],
      "execution_count": 32,
      "outputs": [
        {
          "output_type": "display_data",
          "data": {
            "image/png": "[encoded data removed]",
            "text/plain": [
              "<Figure size 432x288 with 1 Axes>"
            ]
          },
          "metadata": {
            "tags": [],
            "needs_background": "light"
          }
        }
      ]
    }
  ]
}